{
 "cells": [
  {
   "cell_type": "code",
   "execution_count": 4,
   "id": "09be65f0-72da-4d52-8b43-28a00b73b8e4",
   "metadata": {},
   "outputs": [],
   "source": [
    "import os\n",
    "import sys\n",
    "ROOT_DIR = os.getcwd()[:os.getcwd().rfind('Quantum_DNA_1.0')]+ 'Quantum_DNA_1.0'\n",
    "if ROOT_DIR not in sys.path:\n",
    "    del sys.path[0]\n",
    "    sys.path.insert(0, ROOT_DIR)"
   ]
  },
  {
   "cell_type": "code",
   "execution_count": 25,
   "id": "c4f1398d-6ed9-4f94-b3f4-c325479351da",
   "metadata": {},
   "outputs": [],
   "source": [
    "import numpy as np\n",
    "import matplotlib.pyplot as plt"
   ]
  },
  {
   "cell_type": "markdown",
   "id": "1c64ed68-8b93-43fd-9bb9-6189841a6761",
   "metadata": {},
   "source": [
    "# DNA.model"
   ]
  },
  {
   "cell_type": "code",
   "execution_count": 5,
   "id": "cff03779-e148-4bc6-9d4d-51201855a949",
   "metadata": {},
   "outputs": [],
   "source": [
    "from DNA.model import *"
   ]
  },
  {
   "cell_type": "markdown",
   "id": "63789c54-01fa-48f7-9588-d18dda4a270c",
   "metadata": {},
   "source": [
    "## dna_properties"
   ]
  },
  {
   "cell_type": "code",
   "execution_count": 6,
   "id": "1821da33-4c57-48b0-aa17-fdbec0478c06",
   "metadata": {},
   "outputs": [
    {
     "data": {
      "text/plain": [
       "['GAC', 'CTG']"
      ]
     },
     "execution_count": 6,
     "metadata": {},
     "output_type": "execute_result"
    }
   ],
   "source": [
    "add_complementary_strand('GAC')"
   ]
  },
  {
   "cell_type": "code",
   "execution_count": 7,
   "id": "6a1935bd-3f01-4892-adb7-cd2d6bc4505d",
   "metadata": {},
   "outputs": [
    {
     "data": {
      "text/plain": [
       "['BBB', 'GAC', 'BBB']"
      ]
     },
     "execution_count": 7,
     "metadata": {},
     "output_type": "execute_result"
    }
   ],
   "source": [
    "add_backbone('GAC')"
   ]
  },
  {
   "cell_type": "code",
   "execution_count": 8,
   "id": "21a95bad-3059-4ad3-b544-15e1187ebcc0",
   "metadata": {},
   "outputs": [
    {
     "data": {
      "text/plain": [
       "[['BB', 'AA', 'BB'],\n",
       " ['BB', 'AT', 'BB'],\n",
       " ['BB', 'TA', 'BB'],\n",
       " ['BB', 'TT', 'BB']]"
      ]
     },
     "execution_count": 8,
     "metadata": {},
     "output_type": "execute_result"
    }
   ],
   "source": [
    "create_DNA_sequences(2, dna_bases=['A','T'], double_stranded=False, backbone=True)"
   ]
  },
  {
   "cell_type": "code",
   "execution_count": 9,
   "id": "9ac6a771-1595-4b19-a684-59238e2d3037",
   "metadata": {},
   "outputs": [
    {
     "data": {
      "text/plain": [
       "['A', 'T', 'G', 'C']"
      ]
     },
     "execution_count": 9,
     "metadata": {},
     "output_type": "execute_result"
    }
   ],
   "source": [
    "DNA_BASES"
   ]
  },
  {
   "cell_type": "markdown",
   "id": "d717b264-0978-461a-beaa-06f34594db8d",
   "metadata": {},
   "source": [
    "## tb_basis"
   ]
  },
  {
   "cell_type": "code",
   "execution_count": 10,
   "id": "65710cf9-05f3-4d1c-a4e6-480b21659967",
   "metadata": {},
   "outputs": [
    {
     "data": {
      "text/plain": [
       "['(0, 0)', '(0, 1)', '(1, 0)', '(1, 1)']"
      ]
     },
     "execution_count": 10,
     "metadata": {},
     "output_type": "execute_result"
    }
   ],
   "source": [
    "get_tb_basis((2, 2))"
   ]
  },
  {
   "cell_type": "code",
   "execution_count": 15,
   "id": "c1f8a4fa-582b-4320-952c-b56a475ba42e",
   "metadata": {},
   "outputs": [
    {
     "name": "stdout",
     "output_type": "stream",
     "text": [
      "2\n",
      "(0, 2)\n",
      "(0, 2)\n",
      "(0, 2)\n",
      "(0, 2)\n",
      "2\n"
     ]
    }
   ],
   "source": [
    "print( str_to_int( (1,3), '(0, 2)') )\n",
    "print( int_to_str( (1,3), 2 ) )\n",
    "print( str_to_tuple('(0, 2)') )\n",
    "print( tuple_to_str( (0,2) ) )\n",
    "print( int_to_tuple( (1,3), 2) )\n",
    "print( tuple_to_int( (1,3), (0,2) ) )"
   ]
  },
  {
   "cell_type": "code",
   "execution_count": 18,
   "id": "aae57485-82f0-453a-8917-6b362f4f5bf2",
   "metadata": {},
   "outputs": [
    {
     "data": {
      "text/plain": [
       "[('(0, 0)', '(0, 0)'),\n",
       " ('(0, 0)', '(0, 1)'),\n",
       " ('(0, 0)', '(0, 2)'),\n",
       " ('(0, 1)', '(0, 0)'),\n",
       " ('(0, 1)', '(0, 1)'),\n",
       " ('(0, 1)', '(0, 2)'),\n",
       " ('(0, 2)', '(0, 0)'),\n",
       " ('(0, 2)', '(0, 1)'),\n",
       " ('(0, 2)', '(0, 2)')]"
      ]
     },
     "execution_count": 18,
     "metadata": {},
     "output_type": "execute_result"
    }
   ],
   "source": [
    "get_eh_basis((1, 3))"
   ]
  },
  {
   "cell_type": "code",
   "execution_count": 17,
   "id": "5fb6906b-32e6-4ecb-a5ae-abe848007eba",
   "metadata": {},
   "outputs": [
    {
     "data": {
      "text/plain": [
       "[('(0, 2)', '(0, 0)'), ('(0, 2)', '(0, 1)'), ('(0, 2)', '(0, 2)')]"
      ]
     },
     "execution_count": 17,
     "metadata": {},
     "output_type": "execute_result"
    }
   ],
   "source": [
    "get_particle_eh_states('electron', '(0, 2)', get_tb_basis((1,3)))"
   ]
  },
  {
   "cell_type": "code",
   "execution_count": 19,
   "id": "760bc9f3-886a-421c-95e8-cb54c1fe6389",
   "metadata": {},
   "outputs": [
    {
     "data": {
      "text/plain": [
       "1"
      ]
     },
     "execution_count": 19,
     "metadata": {},
     "output_type": "execute_result"
    }
   ],
   "source": [
    "basis_converter( 'e2', ['e1', 'e2', 'e3'])"
   ]
  },
  {
   "cell_type": "code",
   "execution_count": 20,
   "id": "f69b6150-71c7-408c-8012-38b0db4bdc0e",
   "metadata": {},
   "outputs": [
    {
     "data": {
      "text/plain": [
       "5"
      ]
     },
     "execution_count": 20,
     "metadata": {},
     "output_type": "execute_result"
    }
   ],
   "source": [
    "tb_basis_converter((2, 3), '(1, 2)')"
   ]
  },
  {
   "cell_type": "code",
   "execution_count": 21,
   "id": "3c3c81bd-d118-413a-92af-2b32e195c885",
   "metadata": {},
   "outputs": [
    {
     "data": {
      "text/plain": [
       "16"
      ]
     },
     "execution_count": 21,
     "metadata": {},
     "output_type": "execute_result"
    }
   ],
   "source": [
    "eh_basis_converter((2, 3), ('(0, 2)', '(1, 1)'))"
   ]
  },
  {
   "cell_type": "code",
   "execution_count": 26,
   "id": "3304f89d-f0ab-4931-b45a-3605a3b66e88",
   "metadata": {},
   "outputs": [
    {
     "data": {
      "text/plain": [
       "array([[ 1.,  0.],\n",
       "       [ 0., -1.]])"
      ]
     },
     "execution_count": 26,
     "metadata": {},
     "output_type": "execute_result"
    }
   ],
   "source": [
    "basis_change( np.array([[0,1],[1,0]]), 1/np.sqrt(2)*np.array([[1,1],[1,-1]]) ) "
   ]
  },
  {
   "cell_type": "code",
   "execution_count": 29,
   "id": "5ccb59ff-f492-4465-8437-9a84fc863f41",
   "metadata": {},
   "outputs": [
    {
     "data": {
      "text/plain": [
       "array([[0., 1.],\n",
       "       [1., 0.]])"
      ]
     },
     "execution_count": 29,
     "metadata": {},
     "output_type": "execute_result"
    }
   ],
   "source": [
    "global_to_local( np.array([[1,0],[0,-1]]), 1/np.sqrt(2)*np.array([[1,1],[1,-1]]) )"
   ]
  },
  {
   "cell_type": "code",
   "execution_count": 28,
   "id": "1a72fd2d-a485-4f21-8341-2c805016fbb7",
   "metadata": {},
   "outputs": [
    {
     "data": {
      "text/plain": [
       "array([[ 1.,  0.],\n",
       "       [ 0., -1.]])"
      ]
     },
     "execution_count": 28,
     "metadata": {},
     "output_type": "execute_result"
    }
   ],
   "source": [
    "local_to_global( np.array([[0,1],[1,0]]), 1/np.sqrt(2)*np.array([[1,1],[1,-1]]) )"
   ]
  },
  {
   "cell_type": "markdown",
   "id": "0d7c1ad7-402e-4d8a-978b-5eb3fb005958",
   "metadata": {},
   "source": [
    "## tb_config"
   ]
  },
  {
   "cell_type": "code",
   "execution_count": 30,
   "id": "e0be7939-1f49-4b7d-bd2e-07f08deeeaf0",
   "metadata": {},
   "outputs": [
    {
     "data": {
      "text/plain": [
       "['WM', 'LM', 'ELM', 'FWM', 'FLM', 'FELM', 'FC']"
      ]
     },
     "execution_count": 30,
     "metadata": {},
     "output_type": "execute_result"
    }
   ],
   "source": [
    "TB_MODELS"
   ]
  },
  {
   "cell_type": "code",
   "execution_count": 36,
   "id": "4566a52c-cbef-47a9-be48-9a773eb87b9c",
   "metadata": {},
   "outputs": [
    {
     "data": {
      "text/plain": [
       "[('E', '(0, 0)', '(0, 0)'),\n",
       " ('E', '(0, 1)', '(0, 1)'),\n",
       " ('E', '(0, 2)', '(0, 2)'),\n",
       " ('t', '(0, 1)', '(0, 0)'),\n",
       " ('t', '(0, 2)', '(0, 1)')]"
      ]
     },
     "execution_count": 36,
     "metadata": {},
     "output_type": "execute_result"
    }
   ],
   "source": [
    "get_tb_config(3, 1, 'WM')"
   ]
  },
  {
   "cell_type": "code",
   "execution_count": 37,
   "id": "495da210-ca9e-45e8-b2db-0c976c0f30d1",
   "metadata": {},
   "outputs": [
    {
     "data": {
      "text/plain": [
       "1"
      ]
     },
     "execution_count": 37,
     "metadata": {},
     "output_type": "execute_result"
    }
   ],
   "source": [
    "get_num_strands('WM')"
   ]
  },
  {
   "cell_type": "markdown",
   "id": "10911489-ec8b-42b5-ace0-a89c62358f27",
   "metadata": {},
   "source": [
    "## tb_hamiltonian_analysis"
   ]
  },
  {
   "cell_type": "code",
   "execution_count": 40,
   "id": "04ab41b7-adfb-4264-b083-224d43ff952d",
   "metadata": {},
   "outputs": [
    {
     "data": {
      "text/plain": [
       "0.4999999999999998"
      ]
     },
     "execution_count": 40,
     "metadata": {},
     "output_type": "execute_result"
    }
   ],
   "source": [
    "calc_average_pop( 1/np.sqrt(2)*np.array([[1,1],[1,-1]]), 0, 0)"
   ]
  },
  {
   "cell_type": "code",
   "execution_count": 42,
   "id": "e82d4fe9-59d0-48b1-a474-69baae5a26d0",
   "metadata": {},
   "outputs": [
    {
     "data": {
      "text/plain": [
       "[0.49999999999999983]"
      ]
     },
     "execution_count": 42,
     "metadata": {},
     "output_type": "execute_result"
    }
   ],
   "source": [
    "calc_amplitudes( 1/np.sqrt(2)*np.array([[1,1],[1,-1]]), 0, 0)"
   ]
  },
  {
   "cell_type": "code",
   "execution_count": 43,
   "id": "1d48de29-ce8b-41ea-8067-6acdc776fc09",
   "metadata": {},
   "outputs": [
    {
     "data": {
      "text/plain": [
       "[2.0]"
      ]
     },
     "execution_count": 43,
     "metadata": {},
     "output_type": "execute_result"
    }
   ],
   "source": [
    "calc_frequencies( [1,-1] )"
   ]
  },
  {
   "cell_type": "code",
   "execution_count": null,
   "id": "70df724c-026f-49f6-9e88-3f0409aeacd4",
   "metadata": {},
   "outputs": [],
   "source": [
    "tb_ham = TB_Ham"
   ]
  }
 ],
 "metadata": {
  "kernelspec": {
   "display_name": "Python 3 (ipykernel)",
   "language": "python",
   "name": "python3"
  },
  "language_info": {
   "codemirror_mode": {
    "name": "ipython",
    "version": 3
   },
   "file_extension": ".py",
   "mimetype": "text/x-python",
   "name": "python",
   "nbconvert_exporter": "python",
   "pygments_lexer": "ipython3",
   "version": "3.11.5"
  }
 },
 "nbformat": 4,
 "nbformat_minor": 5
}
