{
 "cells": [
  {
   "cell_type": "code",
   "execution_count": 4,
   "id": "09be65f0-72da-4d52-8b43-28a00b73b8e4",
   "metadata": {},
   "outputs": [],
   "source": [
    "import os\n",
    "import sys\n",
    "ROOT_DIR = os.getcwd()[:os.getcwd().rfind('Quantum_DNA_1.0')]+ 'Quantum_DNA_1.0'\n",
    "if ROOT_DIR not in sys.path:\n",
    "    del sys.path[0]\n",
    "    sys.path.insert(0, ROOT_DIR)"
   ]
  },
  {
   "cell_type": "markdown",
   "id": "07c46e37-a060-46ed-968b-f400778fb449",
   "metadata": {},
   "source": [
    "# DNA "
   ]
  },
  {
   "cell_type": "code",
   "execution_count": 25,
   "id": "c4f1398d-6ed9-4f94-b3f4-c325479351da",
   "metadata": {},
   "outputs": [],
   "source": [
    "import numpy as np\n",
    "import matplotlib.pyplot as plt\n",
    "from DNA import *"
   ]
  },
  {
   "cell_type": "markdown",
   "id": "36151f36-7975-49a7-a56d-3a799160bb51",
   "metadata": {},
   "source": [
    "You can use this notebook to explore the functionality of different functions. For some more examples you can also refer to the test files located in the ``tests/`` folder. "
   ]
  },
  {
   "cell_type": "markdown",
   "id": "eb883d4a-fb17-4490-a990-c5b835b10ee4",
   "metadata": {},
   "source": [
    "### dm_analysis"
   ]
  },
  {
   "cell_type": "markdown",
   "id": "4649fc69-9c0b-4001-864f-55e0b2ce65a2",
   "metadata": {},
   "source": [
    "### dna_seqs_generator"
   ]
  },
  {
   "cell_type": "markdown",
   "id": "a57746cb-3632-460e-ba2a-5855a480ec25",
   "metadata": {},
   "source": [
    "### ham_analysis"
   ]
  },
  {
   "cell_type": "markdown",
   "id": "0da1e04c-7013-4da6-a74a-54ace1f64bb7",
   "metadata": {},
   "source": [
    "## DNA.dynamics"
   ]
  },
  {
   "cell_type": "markdown",
   "id": "f09273f6-9c98-4ddb-94e8-08eb566f260d",
   "metadata": {},
   "source": [
    "### reduced_dm"
   ]
  },
  {
   "cell_type": "markdown",
   "id": "6ca83642-7172-475a-86d6-b3446d644378",
   "metadata": {},
   "source": [
    "### solver"
   ]
  },
  {
   "cell_type": "markdown",
   "id": "00ab793f-026d-4918-b77c-e3c2cb13421c",
   "metadata": {},
   "source": [
    "## DNA.environment"
   ]
  },
  {
   "cell_type": "markdown",
   "id": "5d0e5166-6022-42ff-86a0-cd5b32dc66f5",
   "metadata": {},
   "source": [
    "### lindblad_rates"
   ]
  },
  {
   "cell_type": "markdown",
   "id": "ab378ca9-5743-4868-81c7-09077904ae9a",
   "metadata": {},
   "source": [
    "### lindblad"
   ]
  },
  {
   "cell_type": "markdown",
   "id": "f3223b07-c8ed-4fa8-8cc8-0cfc401a9e22",
   "metadata": {},
   "source": [
    "### observables"
   ]
  },
  {
   "cell_type": "markdown",
   "id": "c5dbbe2b-a154-4140-be28-2283bd0152f9",
   "metadata": {},
   "source": [
    "## DNA.evaluation"
   ]
  },
  {
   "cell_type": "markdown",
   "id": "0d1a7667-b1d9-48b1-a20d-b182c6869b26",
   "metadata": {},
   "source": [
    "### dipole"
   ]
  },
  {
   "cell_type": "markdown",
   "id": "99f0ad9b-ca5e-48f7-b83f-4c122f77e3f1",
   "metadata": {},
   "source": [
    "### eq_states"
   ]
  },
  {
   "cell_type": "markdown",
   "id": "f2d02b1d-4fa1-45c0-b5af-654e4daad062",
   "metadata": {},
   "source": [
    "### lifetime"
   ]
  },
  {
   "cell_type": "markdown",
   "id": "1c64ed68-8b93-43fd-9bb9-6189841a6761",
   "metadata": {},
   "source": [
    "## DNA.model"
   ]
  },
  {
   "cell_type": "markdown",
   "id": "3ce7c506-362c-4b5b-b5db-1d3afcceda0e",
   "metadata": {},
   "source": [
    "### tb_basis"
   ]
  },
  {
   "cell_type": "markdown",
   "id": "da1b72bb-b20a-41ee-949e-df52bb877151",
   "metadata": {},
   "source": [
    "### tb_config"
   ]
  },
  {
   "cell_type": "markdown",
   "id": "7b3d6c95-fcc1-410d-a7e9-64fe127f2a8e",
   "metadata": {},
   "source": [
    "### tb_ham"
   ]
  },
  {
   "cell_type": "markdown",
   "id": "c3835bea-69d4-41fc-9c25-0c045b757ae4",
   "metadata": {},
   "source": [
    "### tb_model"
   ]
  },
  {
   "cell_type": "markdown",
   "id": "0072175d-6057-4671-96d5-a809b8ca782b",
   "metadata": {},
   "source": [
    "### tb_params"
   ]
  },
  {
   "cell_type": "markdown",
   "id": "5fb4b1ed-5f39-4cd3-aab7-c6780ce76d4b",
   "metadata": {},
   "source": [
    "## DNA.plotting"
   ]
  },
  {
   "cell_type": "markdown",
   "id": "545cec83-cbdc-48cc-8b8b-ad7d958aaf56",
   "metadata": {},
   "source": [
    "### plot_dna_base_frequency"
   ]
  },
  {
   "cell_type": "markdown",
   "id": "a9a2dd01-1a05-424d-8e5b-6e66a7dd06d3",
   "metadata": {},
   "source": [
    "### plot_eigenspectrum"
   ]
  },
  {
   "cell_type": "markdown",
   "id": "ea6c6e0e-2446-42c1-9b45-c96bf552bd75",
   "metadata": {},
   "source": [
    "### plot_fourier"
   ]
  },
  {
   "cell_type": "markdown",
   "id": "05d83282-32ce-419a-bba9-19477fecb96b",
   "metadata": {},
   "source": [
    "### plot_pop"
   ]
  },
  {
   "cell_type": "code",
   "execution_count": null,
   "id": "a9cfc755-42d8-420e-81df-7186dfd101e3",
   "metadata": {},
   "outputs": [],
   "source": []
  }
 ],
 "metadata": {
  "kernelspec": {
   "display_name": "Python (qDNA)",
   "language": "python",
   "name": "qdna"
  },
  "language_info": {
   "codemirror_mode": {
    "name": "ipython",
    "version": 3
   },
   "file_extension": ".py",
   "mimetype": "text/x-python",
   "name": "python",
   "nbconvert_exporter": "python",
   "pygments_lexer": "ipython3",
   "version": "3.11.5"
  }
 },
 "nbformat": 4,
 "nbformat_minor": 5
}
